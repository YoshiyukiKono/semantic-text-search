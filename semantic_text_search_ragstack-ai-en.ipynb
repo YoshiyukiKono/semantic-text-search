{
  "nbformat": 4,
  "nbformat_minor": 0,
  "metadata": {
    "colab": {
      "provenance": [],
      "authorship_tag": "ABX9TyMHh7pDwutaoZM6b43rrtFb",
      "include_colab_link": true
    },
    "kernelspec": {
      "name": "python3",
      "display_name": "Python 3"
    },
    "language_info": {
      "name": "python"
    }
  },
  "cells": [
    {
      "cell_type": "markdown",
      "metadata": {
        "id": "view-in-github",
        "colab_type": "text"
      },
      "source": [
        "<a href=\"https://colab.research.google.com/github/YoshiyukiKono/semantic-text-search/blob/main/semantic_text_search_ragstack-ai-en.ipynb\" target=\"_parent\"><img src=\"https://colab.research.google.com/assets/colab-badge.svg\" alt=\"Open In Colab\"/></a>"
      ]
    },
    {
      "cell_type": "markdown",
      "source": [
        "# Semantic Text Search by Astra DB Vector Search with new AstraPy interface\n",
        "\n",
        "## Prerequisites\n",
        "\n",
        "### OpenAI API Access\n",
        "\n",
        "### Astra DB\n",
        "\n",
        "1. Create a new ***vector search enabled database*** in [Astra](https://astra.datastax.com/).\n",
        "1. Get an application token and API endpoint.\n",
        "\n",
        "We will create a collection in the vector database in this walkthrough.\n",
        "\n",
        "\n"
      ],
      "metadata": {
        "id": "3SsDBYTtOcbB"
      }
    },
    {
      "cell_type": "markdown",
      "source": [
        "## Data Set\n",
        "\n",
        "First, we will see the process to prepare the data set used for this demo and the tool to embedded the data into vectors.\n",
        "\n",
        "To begin we must install the required prerequisite libraries:\n"
      ],
      "metadata": {
        "id": "NnNw9JL8UlPQ"
      }
    },
    {
      "cell_type": "code",
      "source": [
        "!pip install ragstack-ai"
      ],
      "metadata": {
        "id": "HQJQdf8WTN95",
        "outputId": "9c7c47d7-4b10-4717-a33b-8a9dea3426c3",
        "colab": {
          "base_uri": "https://localhost:8080/"
        }
      },
      "execution_count": 2,
      "outputs": [
        {
          "output_type": "stream",
          "name": "stdout",
          "text": [
            "Requirement already satisfied: ragstack-ai in /usr/local/lib/python3.10/dist-packages (0.2.0)\n",
            "Requirement already satisfied: astrapy<0.7.0,>=0.6.2 in /usr/local/lib/python3.10/dist-packages (from ragstack-ai) (0.6.2)\n",
            "Requirement already satisfied: cassio<0.2.0,>=0.1.3 in /usr/local/lib/python3.10/dist-packages (from ragstack-ai) (0.1.3)\n",
            "Requirement already satisfied: langchain-core==0.0.8 in /usr/local/lib/python3.10/dist-packages (from ragstack-ai) (0.0.8)\n",
            "Requirement already satisfied: langchain[openai]==0.0.343 in /usr/local/lib/python3.10/dist-packages (from ragstack-ai) (0.0.343)\n",
            "Requirement already satisfied: llama-index==0.9.11 in /usr/local/lib/python3.10/dist-packages (from ragstack-ai) (0.9.11)\n",
            "Requirement already satisfied: unstructured<0.11,>=0.10 in /usr/local/lib/python3.10/dist-packages (from ragstack-ai) (0.10.30)\n",
            "Requirement already satisfied: jsonpatch<2.0,>=1.33 in /usr/local/lib/python3.10/dist-packages (from langchain-core==0.0.8->ragstack-ai) (1.33)\n",
            "Requirement already satisfied: langsmith<0.1.0,>=0.0.63 in /usr/local/lib/python3.10/dist-packages (from langchain-core==0.0.8->ragstack-ai) (0.0.69)\n",
            "Requirement already satisfied: pydantic<3,>=1 in /usr/local/lib/python3.10/dist-packages (from langchain-core==0.0.8->ragstack-ai) (1.10.13)\n",
            "Requirement already satisfied: tenacity<9.0.0,>=8.1.0 in /usr/local/lib/python3.10/dist-packages (from langchain-core==0.0.8->ragstack-ai) (8.2.3)\n",
            "Requirement already satisfied: PyYAML>=5.3 in /usr/local/lib/python3.10/dist-packages (from langchain[openai]==0.0.343->ragstack-ai) (6.0.1)\n",
            "Requirement already satisfied: SQLAlchemy<3,>=1.4 in /usr/local/lib/python3.10/dist-packages (from langchain[openai]==0.0.343->ragstack-ai) (2.0.23)\n",
            "Requirement already satisfied: aiohttp<4.0.0,>=3.8.3 in /usr/local/lib/python3.10/dist-packages (from langchain[openai]==0.0.343->ragstack-ai) (3.9.1)\n",
            "Requirement already satisfied: anyio<4.0 in /usr/local/lib/python3.10/dist-packages (from langchain[openai]==0.0.343->ragstack-ai) (3.7.1)\n",
            "Requirement already satisfied: async-timeout<5.0.0,>=4.0.0 in /usr/local/lib/python3.10/dist-packages (from langchain[openai]==0.0.343->ragstack-ai) (4.0.3)\n",
            "Requirement already satisfied: dataclasses-json<0.7,>=0.5.7 in /usr/local/lib/python3.10/dist-packages (from langchain[openai]==0.0.343->ragstack-ai) (0.6.3)\n",
            "Requirement already satisfied: numpy<2,>=1 in /usr/local/lib/python3.10/dist-packages (from langchain[openai]==0.0.343->ragstack-ai) (1.23.5)\n",
            "Requirement already satisfied: requests<3,>=2 in /usr/local/lib/python3.10/dist-packages (from langchain[openai]==0.0.343->ragstack-ai) (2.31.0)\n",
            "Requirement already satisfied: openai<2 in /usr/local/lib/python3.10/dist-packages (from langchain[openai]==0.0.343->ragstack-ai) (1.3.8)\n",
            "Requirement already satisfied: tiktoken<0.6.0,>=0.3.2 in /usr/local/lib/python3.10/dist-packages (from langchain[openai]==0.0.343->ragstack-ai) (0.5.2)\n",
            "Requirement already satisfied: aiostream<0.6.0,>=0.5.2 in /usr/local/lib/python3.10/dist-packages (from llama-index==0.9.11->ragstack-ai) (0.5.2)\n",
            "Requirement already satisfied: beautifulsoup4<5.0.0,>=4.12.2 in /usr/local/lib/python3.10/dist-packages (from llama-index==0.9.11->ragstack-ai) (4.12.2)\n",
            "Requirement already satisfied: deprecated>=1.2.9.3 in /usr/local/lib/python3.10/dist-packages (from llama-index==0.9.11->ragstack-ai) (1.2.14)\n",
            "Requirement already satisfied: fsspec>=2023.5.0 in /usr/local/lib/python3.10/dist-packages (from llama-index==0.9.11->ragstack-ai) (2023.6.0)\n",
            "Requirement already satisfied: httpx in /usr/local/lib/python3.10/dist-packages (from llama-index==0.9.11->ragstack-ai) (0.25.2)\n",
            "Requirement already satisfied: nest-asyncio<2.0.0,>=1.5.8 in /usr/local/lib/python3.10/dist-packages (from llama-index==0.9.11->ragstack-ai) (1.5.8)\n",
            "Requirement already satisfied: nltk<4.0.0,>=3.8.1 in /usr/local/lib/python3.10/dist-packages (from llama-index==0.9.11->ragstack-ai) (3.8.1)\n",
            "Requirement already satisfied: pandas in /usr/local/lib/python3.10/dist-packages (from llama-index==0.9.11->ragstack-ai) (1.5.3)\n",
            "Requirement already satisfied: typing-extensions>=4.5.0 in /usr/local/lib/python3.10/dist-packages (from llama-index==0.9.11->ragstack-ai) (4.5.0)\n",
            "Requirement already satisfied: typing-inspect>=0.8.0 in /usr/local/lib/python3.10/dist-packages (from llama-index==0.9.11->ragstack-ai) (0.9.0)\n",
            "Requirement already satisfied: cassandra-driver>=3.28.0 in /usr/local/lib/python3.10/dist-packages (from cassio<0.2.0,>=0.1.3->ragstack-ai) (3.28.0)\n",
            "Requirement already satisfied: chardet in /usr/local/lib/python3.10/dist-packages (from unstructured<0.11,>=0.10->ragstack-ai) (5.2.0)\n",
            "Requirement already satisfied: filetype in /usr/local/lib/python3.10/dist-packages (from unstructured<0.11,>=0.10->ragstack-ai) (1.2.0)\n",
            "Requirement already satisfied: python-magic in /usr/local/lib/python3.10/dist-packages (from unstructured<0.11,>=0.10->ragstack-ai) (0.4.27)\n",
            "Requirement already satisfied: lxml in /usr/local/lib/python3.10/dist-packages (from unstructured<0.11,>=0.10->ragstack-ai) (4.9.3)\n",
            "Requirement already satisfied: tabulate in /usr/local/lib/python3.10/dist-packages (from unstructured<0.11,>=0.10->ragstack-ai) (0.9.0)\n",
            "Requirement already satisfied: emoji in /usr/local/lib/python3.10/dist-packages (from unstructured<0.11,>=0.10->ragstack-ai) (2.9.0)\n",
            "Requirement already satisfied: python-iso639 in /usr/local/lib/python3.10/dist-packages (from unstructured<0.11,>=0.10->ragstack-ai) (2023.6.15)\n",
            "Requirement already satisfied: langdetect in /usr/local/lib/python3.10/dist-packages (from unstructured<0.11,>=0.10->ragstack-ai) (1.0.9)\n",
            "Requirement already satisfied: rapidfuzz in /usr/local/lib/python3.10/dist-packages (from unstructured<0.11,>=0.10->ragstack-ai) (3.5.2)\n",
            "Requirement already satisfied: backoff in /usr/local/lib/python3.10/dist-packages (from unstructured<0.11,>=0.10->ragstack-ai) (2.2.1)\n",
            "Requirement already satisfied: attrs>=17.3.0 in /usr/local/lib/python3.10/dist-packages (from aiohttp<4.0.0,>=3.8.3->langchain[openai]==0.0.343->ragstack-ai) (23.1.0)\n",
            "Requirement already satisfied: multidict<7.0,>=4.5 in /usr/local/lib/python3.10/dist-packages (from aiohttp<4.0.0,>=3.8.3->langchain[openai]==0.0.343->ragstack-ai) (6.0.4)\n",
            "Requirement already satisfied: yarl<2.0,>=1.0 in /usr/local/lib/python3.10/dist-packages (from aiohttp<4.0.0,>=3.8.3->langchain[openai]==0.0.343->ragstack-ai) (1.9.3)\n",
            "Requirement already satisfied: frozenlist>=1.1.1 in /usr/local/lib/python3.10/dist-packages (from aiohttp<4.0.0,>=3.8.3->langchain[openai]==0.0.343->ragstack-ai) (1.4.0)\n",
            "Requirement already satisfied: aiosignal>=1.1.2 in /usr/local/lib/python3.10/dist-packages (from aiohttp<4.0.0,>=3.8.3->langchain[openai]==0.0.343->ragstack-ai) (1.3.1)\n",
            "Requirement already satisfied: idna>=2.8 in /usr/local/lib/python3.10/dist-packages (from anyio<4.0->langchain[openai]==0.0.343->ragstack-ai) (3.6)\n",
            "Requirement already satisfied: sniffio>=1.1 in /usr/local/lib/python3.10/dist-packages (from anyio<4.0->langchain[openai]==0.0.343->ragstack-ai) (1.3.0)\n",
            "Requirement already satisfied: exceptiongroup in /usr/local/lib/python3.10/dist-packages (from anyio<4.0->langchain[openai]==0.0.343->ragstack-ai) (1.2.0)\n",
            "Requirement already satisfied: soupsieve>1.2 in /usr/local/lib/python3.10/dist-packages (from beautifulsoup4<5.0.0,>=4.12.2->llama-index==0.9.11->ragstack-ai) (2.5)\n",
            "Requirement already satisfied: six>=1.9 in /usr/local/lib/python3.10/dist-packages (from cassandra-driver>=3.28.0->cassio<0.2.0,>=0.1.3->ragstack-ai) (1.16.0)\n",
            "Requirement already satisfied: geomet<0.3,>=0.1 in /usr/local/lib/python3.10/dist-packages (from cassandra-driver>=3.28.0->cassio<0.2.0,>=0.1.3->ragstack-ai) (0.2.1.post1)\n",
            "Requirement already satisfied: marshmallow<4.0.0,>=3.18.0 in /usr/local/lib/python3.10/dist-packages (from dataclasses-json<0.7,>=0.5.7->langchain[openai]==0.0.343->ragstack-ai) (3.20.1)\n",
            "Requirement already satisfied: wrapt<2,>=1.10 in /usr/local/lib/python3.10/dist-packages (from deprecated>=1.2.9.3->llama-index==0.9.11->ragstack-ai) (1.14.1)\n",
            "Requirement already satisfied: certifi in /usr/local/lib/python3.10/dist-packages (from httpx->llama-index==0.9.11->ragstack-ai) (2023.11.17)\n",
            "Requirement already satisfied: httpcore==1.* in /usr/local/lib/python3.10/dist-packages (from httpx->llama-index==0.9.11->ragstack-ai) (1.0.2)\n",
            "Requirement already satisfied: h2<5,>=3 in /usr/local/lib/python3.10/dist-packages (from httpx->llama-index==0.9.11->ragstack-ai) (4.1.0)\n",
            "Requirement already satisfied: h11<0.15,>=0.13 in /usr/local/lib/python3.10/dist-packages (from httpcore==1.*->httpx->llama-index==0.9.11->ragstack-ai) (0.14.0)\n",
            "Requirement already satisfied: jsonpointer>=1.9 in /usr/local/lib/python3.10/dist-packages (from jsonpatch<2.0,>=1.33->langchain-core==0.0.8->ragstack-ai) (2.4)\n",
            "Requirement already satisfied: click in /usr/local/lib/python3.10/dist-packages (from nltk<4.0.0,>=3.8.1->llama-index==0.9.11->ragstack-ai) (8.1.7)\n",
            "Requirement already satisfied: joblib in /usr/local/lib/python3.10/dist-packages (from nltk<4.0.0,>=3.8.1->llama-index==0.9.11->ragstack-ai) (1.3.2)\n",
            "Requirement already satisfied: regex>=2021.8.3 in /usr/local/lib/python3.10/dist-packages (from nltk<4.0.0,>=3.8.1->llama-index==0.9.11->ragstack-ai) (2023.6.3)\n",
            "Requirement already satisfied: tqdm in /usr/local/lib/python3.10/dist-packages (from nltk<4.0.0,>=3.8.1->llama-index==0.9.11->ragstack-ai) (4.66.1)\n",
            "Requirement already satisfied: distro<2,>=1.7.0 in /usr/lib/python3/dist-packages (from openai<2->langchain[openai]==0.0.343->ragstack-ai) (1.7.0)\n",
            "Requirement already satisfied: charset-normalizer<4,>=2 in /usr/local/lib/python3.10/dist-packages (from requests<3,>=2->langchain[openai]==0.0.343->ragstack-ai) (3.3.2)\n",
            "Requirement already satisfied: urllib3<3,>=1.21.1 in /usr/local/lib/python3.10/dist-packages (from requests<3,>=2->langchain[openai]==0.0.343->ragstack-ai) (2.0.7)\n",
            "Requirement already satisfied: greenlet!=0.4.17 in /usr/local/lib/python3.10/dist-packages (from SQLAlchemy<3,>=1.4->langchain[openai]==0.0.343->ragstack-ai) (3.0.1)\n",
            "Requirement already satisfied: mypy-extensions>=0.3.0 in /usr/local/lib/python3.10/dist-packages (from typing-inspect>=0.8.0->llama-index==0.9.11->ragstack-ai) (1.0.0)\n",
            "Requirement already satisfied: python-dateutil>=2.8.1 in /usr/local/lib/python3.10/dist-packages (from pandas->llama-index==0.9.11->ragstack-ai) (2.8.2)\n",
            "Requirement already satisfied: pytz>=2020.1 in /usr/local/lib/python3.10/dist-packages (from pandas->llama-index==0.9.11->ragstack-ai) (2023.3.post1)\n",
            "Requirement already satisfied: hyperframe<7,>=6.0 in /usr/local/lib/python3.10/dist-packages (from h2<5,>=3->httpx->llama-index==0.9.11->ragstack-ai) (6.0.1)\n",
            "Requirement already satisfied: hpack<5,>=4.0 in /usr/local/lib/python3.10/dist-packages (from h2<5,>=3->httpx->llama-index==0.9.11->ragstack-ai) (4.0.0)\n",
            "Requirement already satisfied: packaging>=17.0 in /usr/local/lib/python3.10/dist-packages (from marshmallow<4.0.0,>=3.18.0->dataclasses-json<0.7,>=0.5.7->langchain[openai]==0.0.343->ragstack-ai) (23.2)\n"
          ]
        }
      ]
    },
    {
      "cell_type": "code",
      "source": [
        "!pip install ragstack-ai==0.2.0"
      ],
      "metadata": {
        "id": "4AxtsU9hwvJE",
        "outputId": "1ab8e74d-3e16-4ed1-9b34-68ecbbde10e3",
        "colab": {
          "base_uri": "https://localhost:8080/"
        }
      },
      "execution_count": 2,
      "outputs": [
        {
          "output_type": "stream",
          "name": "stdout",
          "text": [
            "Requirement already satisfied: ragstack-ai==0.2.0 in /usr/local/lib/python3.10/dist-packages (0.2.0)\n",
            "Requirement already satisfied: astrapy<0.7.0,>=0.6.2 in /usr/local/lib/python3.10/dist-packages (from ragstack-ai==0.2.0) (0.6.2)\n",
            "Requirement already satisfied: cassio<0.2.0,>=0.1.3 in /usr/local/lib/python3.10/dist-packages (from ragstack-ai==0.2.0) (0.1.3)\n",
            "Requirement already satisfied: langchain-core==0.0.8 in /usr/local/lib/python3.10/dist-packages (from ragstack-ai==0.2.0) (0.0.8)\n",
            "Requirement already satisfied: langchain[openai]==0.0.343 in /usr/local/lib/python3.10/dist-packages (from ragstack-ai==0.2.0) (0.0.343)\n",
            "Requirement already satisfied: llama-index==0.9.11 in /usr/local/lib/python3.10/dist-packages (from ragstack-ai==0.2.0) (0.9.11)\n",
            "Requirement already satisfied: unstructured<0.11,>=0.10 in /usr/local/lib/python3.10/dist-packages (from ragstack-ai==0.2.0) (0.10.30)\n",
            "Requirement already satisfied: jsonpatch<2.0,>=1.33 in /usr/local/lib/python3.10/dist-packages (from langchain-core==0.0.8->ragstack-ai==0.2.0) (1.33)\n",
            "Requirement already satisfied: langsmith<0.1.0,>=0.0.63 in /usr/local/lib/python3.10/dist-packages (from langchain-core==0.0.8->ragstack-ai==0.2.0) (0.0.69)\n",
            "Requirement already satisfied: pydantic<3,>=1 in /usr/local/lib/python3.10/dist-packages (from langchain-core==0.0.8->ragstack-ai==0.2.0) (1.10.13)\n",
            "Requirement already satisfied: tenacity<9.0.0,>=8.1.0 in /usr/local/lib/python3.10/dist-packages (from langchain-core==0.0.8->ragstack-ai==0.2.0) (8.2.3)\n",
            "Requirement already satisfied: PyYAML>=5.3 in /usr/local/lib/python3.10/dist-packages (from langchain[openai]==0.0.343->ragstack-ai==0.2.0) (6.0.1)\n",
            "Requirement already satisfied: SQLAlchemy<3,>=1.4 in /usr/local/lib/python3.10/dist-packages (from langchain[openai]==0.0.343->ragstack-ai==0.2.0) (2.0.23)\n",
            "Requirement already satisfied: aiohttp<4.0.0,>=3.8.3 in /usr/local/lib/python3.10/dist-packages (from langchain[openai]==0.0.343->ragstack-ai==0.2.0) (3.9.1)\n",
            "Requirement already satisfied: anyio<4.0 in /usr/local/lib/python3.10/dist-packages (from langchain[openai]==0.0.343->ragstack-ai==0.2.0) (3.7.1)\n",
            "Requirement already satisfied: async-timeout<5.0.0,>=4.0.0 in /usr/local/lib/python3.10/dist-packages (from langchain[openai]==0.0.343->ragstack-ai==0.2.0) (4.0.3)\n",
            "Requirement already satisfied: dataclasses-json<0.7,>=0.5.7 in /usr/local/lib/python3.10/dist-packages (from langchain[openai]==0.0.343->ragstack-ai==0.2.0) (0.6.3)\n",
            "Requirement already satisfied: numpy<2,>=1 in /usr/local/lib/python3.10/dist-packages (from langchain[openai]==0.0.343->ragstack-ai==0.2.0) (1.23.5)\n",
            "Requirement already satisfied: requests<3,>=2 in /usr/local/lib/python3.10/dist-packages (from langchain[openai]==0.0.343->ragstack-ai==0.2.0) (2.31.0)\n",
            "Requirement already satisfied: openai<2 in /usr/local/lib/python3.10/dist-packages (from langchain[openai]==0.0.343->ragstack-ai==0.2.0) (1.3.8)\n",
            "Requirement already satisfied: tiktoken<0.6.0,>=0.3.2 in /usr/local/lib/python3.10/dist-packages (from langchain[openai]==0.0.343->ragstack-ai==0.2.0) (0.5.2)\n",
            "Requirement already satisfied: aiostream<0.6.0,>=0.5.2 in /usr/local/lib/python3.10/dist-packages (from llama-index==0.9.11->ragstack-ai==0.2.0) (0.5.2)\n",
            "Requirement already satisfied: beautifulsoup4<5.0.0,>=4.12.2 in /usr/local/lib/python3.10/dist-packages (from llama-index==0.9.11->ragstack-ai==0.2.0) (4.12.2)\n",
            "Requirement already satisfied: deprecated>=1.2.9.3 in /usr/local/lib/python3.10/dist-packages (from llama-index==0.9.11->ragstack-ai==0.2.0) (1.2.14)\n",
            "Requirement already satisfied: fsspec>=2023.5.0 in /usr/local/lib/python3.10/dist-packages (from llama-index==0.9.11->ragstack-ai==0.2.0) (2023.6.0)\n",
            "Requirement already satisfied: httpx in /usr/local/lib/python3.10/dist-packages (from llama-index==0.9.11->ragstack-ai==0.2.0) (0.25.2)\n",
            "Requirement already satisfied: nest-asyncio<2.0.0,>=1.5.8 in /usr/local/lib/python3.10/dist-packages (from llama-index==0.9.11->ragstack-ai==0.2.0) (1.5.8)\n",
            "Requirement already satisfied: nltk<4.0.0,>=3.8.1 in /usr/local/lib/python3.10/dist-packages (from llama-index==0.9.11->ragstack-ai==0.2.0) (3.8.1)\n",
            "Requirement already satisfied: pandas in /usr/local/lib/python3.10/dist-packages (from llama-index==0.9.11->ragstack-ai==0.2.0) (1.5.3)\n",
            "Requirement already satisfied: typing-extensions>=4.5.0 in /usr/local/lib/python3.10/dist-packages (from llama-index==0.9.11->ragstack-ai==0.2.0) (4.5.0)\n",
            "Requirement already satisfied: typing-inspect>=0.8.0 in /usr/local/lib/python3.10/dist-packages (from llama-index==0.9.11->ragstack-ai==0.2.0) (0.9.0)\n",
            "Requirement already satisfied: cassandra-driver>=3.28.0 in /usr/local/lib/python3.10/dist-packages (from cassio<0.2.0,>=0.1.3->ragstack-ai==0.2.0) (3.28.0)\n",
            "Requirement already satisfied: chardet in /usr/local/lib/python3.10/dist-packages (from unstructured<0.11,>=0.10->ragstack-ai==0.2.0) (5.2.0)\n",
            "Requirement already satisfied: filetype in /usr/local/lib/python3.10/dist-packages (from unstructured<0.11,>=0.10->ragstack-ai==0.2.0) (1.2.0)\n",
            "Requirement already satisfied: python-magic in /usr/local/lib/python3.10/dist-packages (from unstructured<0.11,>=0.10->ragstack-ai==0.2.0) (0.4.27)\n",
            "Requirement already satisfied: lxml in /usr/local/lib/python3.10/dist-packages (from unstructured<0.11,>=0.10->ragstack-ai==0.2.0) (4.9.3)\n",
            "Requirement already satisfied: tabulate in /usr/local/lib/python3.10/dist-packages (from unstructured<0.11,>=0.10->ragstack-ai==0.2.0) (0.9.0)\n",
            "Requirement already satisfied: emoji in /usr/local/lib/python3.10/dist-packages (from unstructured<0.11,>=0.10->ragstack-ai==0.2.0) (2.9.0)\n",
            "Requirement already satisfied: python-iso639 in /usr/local/lib/python3.10/dist-packages (from unstructured<0.11,>=0.10->ragstack-ai==0.2.0) (2023.6.15)\n",
            "Requirement already satisfied: langdetect in /usr/local/lib/python3.10/dist-packages (from unstructured<0.11,>=0.10->ragstack-ai==0.2.0) (1.0.9)\n",
            "Requirement already satisfied: rapidfuzz in /usr/local/lib/python3.10/dist-packages (from unstructured<0.11,>=0.10->ragstack-ai==0.2.0) (3.5.2)\n",
            "Requirement already satisfied: backoff in /usr/local/lib/python3.10/dist-packages (from unstructured<0.11,>=0.10->ragstack-ai==0.2.0) (2.2.1)\n",
            "Requirement already satisfied: attrs>=17.3.0 in /usr/local/lib/python3.10/dist-packages (from aiohttp<4.0.0,>=3.8.3->langchain[openai]==0.0.343->ragstack-ai==0.2.0) (23.1.0)\n",
            "Requirement already satisfied: multidict<7.0,>=4.5 in /usr/local/lib/python3.10/dist-packages (from aiohttp<4.0.0,>=3.8.3->langchain[openai]==0.0.343->ragstack-ai==0.2.0) (6.0.4)\n",
            "Requirement already satisfied: yarl<2.0,>=1.0 in /usr/local/lib/python3.10/dist-packages (from aiohttp<4.0.0,>=3.8.3->langchain[openai]==0.0.343->ragstack-ai==0.2.0) (1.9.3)\n",
            "Requirement already satisfied: frozenlist>=1.1.1 in /usr/local/lib/python3.10/dist-packages (from aiohttp<4.0.0,>=3.8.3->langchain[openai]==0.0.343->ragstack-ai==0.2.0) (1.4.0)\n",
            "Requirement already satisfied: aiosignal>=1.1.2 in /usr/local/lib/python3.10/dist-packages (from aiohttp<4.0.0,>=3.8.3->langchain[openai]==0.0.343->ragstack-ai==0.2.0) (1.3.1)\n",
            "Requirement already satisfied: idna>=2.8 in /usr/local/lib/python3.10/dist-packages (from anyio<4.0->langchain[openai]==0.0.343->ragstack-ai==0.2.0) (3.6)\n",
            "Requirement already satisfied: sniffio>=1.1 in /usr/local/lib/python3.10/dist-packages (from anyio<4.0->langchain[openai]==0.0.343->ragstack-ai==0.2.0) (1.3.0)\n",
            "Requirement already satisfied: exceptiongroup in /usr/local/lib/python3.10/dist-packages (from anyio<4.0->langchain[openai]==0.0.343->ragstack-ai==0.2.0) (1.2.0)\n",
            "Requirement already satisfied: soupsieve>1.2 in /usr/local/lib/python3.10/dist-packages (from beautifulsoup4<5.0.0,>=4.12.2->llama-index==0.9.11->ragstack-ai==0.2.0) (2.5)\n",
            "Requirement already satisfied: six>=1.9 in /usr/local/lib/python3.10/dist-packages (from cassandra-driver>=3.28.0->cassio<0.2.0,>=0.1.3->ragstack-ai==0.2.0) (1.16.0)\n",
            "Requirement already satisfied: geomet<0.3,>=0.1 in /usr/local/lib/python3.10/dist-packages (from cassandra-driver>=3.28.0->cassio<0.2.0,>=0.1.3->ragstack-ai==0.2.0) (0.2.1.post1)\n",
            "Requirement already satisfied: marshmallow<4.0.0,>=3.18.0 in /usr/local/lib/python3.10/dist-packages (from dataclasses-json<0.7,>=0.5.7->langchain[openai]==0.0.343->ragstack-ai==0.2.0) (3.20.1)\n",
            "Requirement already satisfied: wrapt<2,>=1.10 in /usr/local/lib/python3.10/dist-packages (from deprecated>=1.2.9.3->llama-index==0.9.11->ragstack-ai==0.2.0) (1.14.1)\n",
            "Requirement already satisfied: certifi in /usr/local/lib/python3.10/dist-packages (from httpx->llama-index==0.9.11->ragstack-ai==0.2.0) (2023.11.17)\n",
            "Requirement already satisfied: httpcore==1.* in /usr/local/lib/python3.10/dist-packages (from httpx->llama-index==0.9.11->ragstack-ai==0.2.0) (1.0.2)\n",
            "Requirement already satisfied: h2<5,>=3 in /usr/local/lib/python3.10/dist-packages (from httpx->llama-index==0.9.11->ragstack-ai==0.2.0) (4.1.0)\n",
            "Requirement already satisfied: h11<0.15,>=0.13 in /usr/local/lib/python3.10/dist-packages (from httpcore==1.*->httpx->llama-index==0.9.11->ragstack-ai==0.2.0) (0.14.0)\n",
            "Requirement already satisfied: jsonpointer>=1.9 in /usr/local/lib/python3.10/dist-packages (from jsonpatch<2.0,>=1.33->langchain-core==0.0.8->ragstack-ai==0.2.0) (2.4)\n",
            "Requirement already satisfied: click in /usr/local/lib/python3.10/dist-packages (from nltk<4.0.0,>=3.8.1->llama-index==0.9.11->ragstack-ai==0.2.0) (8.1.7)\n",
            "Requirement already satisfied: joblib in /usr/local/lib/python3.10/dist-packages (from nltk<4.0.0,>=3.8.1->llama-index==0.9.11->ragstack-ai==0.2.0) (1.3.2)\n",
            "Requirement already satisfied: regex>=2021.8.3 in /usr/local/lib/python3.10/dist-packages (from nltk<4.0.0,>=3.8.1->llama-index==0.9.11->ragstack-ai==0.2.0) (2023.6.3)\n",
            "Requirement already satisfied: tqdm in /usr/local/lib/python3.10/dist-packages (from nltk<4.0.0,>=3.8.1->llama-index==0.9.11->ragstack-ai==0.2.0) (4.66.1)\n",
            "Requirement already satisfied: distro<2,>=1.7.0 in /usr/lib/python3/dist-packages (from openai<2->langchain[openai]==0.0.343->ragstack-ai==0.2.0) (1.7.0)\n",
            "Requirement already satisfied: charset-normalizer<4,>=2 in /usr/local/lib/python3.10/dist-packages (from requests<3,>=2->langchain[openai]==0.0.343->ragstack-ai==0.2.0) (3.3.2)\n",
            "Requirement already satisfied: urllib3<3,>=1.21.1 in /usr/local/lib/python3.10/dist-packages (from requests<3,>=2->langchain[openai]==0.0.343->ragstack-ai==0.2.0) (2.0.7)\n",
            "Requirement already satisfied: greenlet!=0.4.17 in /usr/local/lib/python3.10/dist-packages (from SQLAlchemy<3,>=1.4->langchain[openai]==0.0.343->ragstack-ai==0.2.0) (3.0.1)\n",
            "Requirement already satisfied: mypy-extensions>=0.3.0 in /usr/local/lib/python3.10/dist-packages (from typing-inspect>=0.8.0->llama-index==0.9.11->ragstack-ai==0.2.0) (1.0.0)\n",
            "Requirement already satisfied: python-dateutil>=2.8.1 in /usr/local/lib/python3.10/dist-packages (from pandas->llama-index==0.9.11->ragstack-ai==0.2.0) (2.8.2)\n",
            "Requirement already satisfied: pytz>=2020.1 in /usr/local/lib/python3.10/dist-packages (from pandas->llama-index==0.9.11->ragstack-ai==0.2.0) (2023.3.post1)\n",
            "Requirement already satisfied: hyperframe<7,>=6.0 in /usr/local/lib/python3.10/dist-packages (from h2<5,>=3->httpx->llama-index==0.9.11->ragstack-ai==0.2.0) (6.0.1)\n",
            "Requirement already satisfied: hpack<5,>=4.0 in /usr/local/lib/python3.10/dist-packages (from h2<5,>=3->httpx->llama-index==0.9.11->ragstack-ai==0.2.0) (4.0.0)\n",
            "Requirement already satisfied: packaging>=17.0 in /usr/local/lib/python3.10/dist-packages (from marshmallow<4.0.0,>=3.18.0->dataclasses-json<0.7,>=0.5.7->langchain[openai]==0.0.343->ragstack-ai==0.2.0) (23.2)\n"
          ]
        }
      ]
    },
    {
      "cell_type": "code",
      "source": [
        "import cassandra;\n",
        "print(cassandra.__version__)"
      ],
      "metadata": {
        "colab": {
          "base_uri": "https://localhost:8080/"
        },
        "id": "Q6I-k6pXtBGo",
        "outputId": "737cf7ee-2f8d-4c56-ec89-170d60afa1ed"
      },
      "execution_count": 3,
      "outputs": [
        {
          "output_type": "stream",
          "name": "stdout",
          "text": [
            "3.28.0\n"
          ]
        }
      ]
    },
    {
      "cell_type": "code",
      "source": [
        "!pip show ragstack-ai"
      ],
      "metadata": {
        "id": "THXbY78VUFBr",
        "outputId": "adce56a2-8514-4d2e-d23d-4b64d86cc963",
        "colab": {
          "base_uri": "https://localhost:8080/"
        }
      },
      "execution_count": 4,
      "outputs": [
        {
          "output_type": "stream",
          "name": "stdout",
          "text": [
            "Name: ragstack-ai\n",
            "Version: 0.2.0\n",
            "Summary: RAGStack\n",
            "Home-page: \n",
            "Author: DataStax\n",
            "Author-email: \n",
            "License: \n",
            "Location: /usr/local/lib/python3.10/dist-packages\n",
            "Requires: astrapy, cassio, langchain, langchain-core, llama-index, unstructured\n",
            "Required-by: \n"
          ]
        }
      ]
    },
    {
      "cell_type": "code",
      "source": [
        "import langchain\n",
        "\n",
        "print(langchain.__version__)"
      ],
      "metadata": {
        "id": "K4sxRCIfT0cg",
        "outputId": "76599f65-ab28-4b0f-e395-c9302e4829e8",
        "colab": {
          "base_uri": "https://localhost:8080/"
        }
      },
      "execution_count": 5,
      "outputs": [
        {
          "output_type": "stream",
          "name": "stdout",
          "text": [
            "0.0.343\n"
          ]
        }
      ]
    },
    {
      "cell_type": "code",
      "source": [
        "import langsmith\n",
        "\n",
        "print(langsmith.__version__)"
      ],
      "metadata": {
        "id": "ukLyZDBixBVL",
        "outputId": "98bc4a60-0c57-440b-ded8-af47bea4fcc8",
        "colab": {
          "base_uri": "https://localhost:8080/"
        }
      },
      "execution_count": 7,
      "outputs": [
        {
          "output_type": "stream",
          "name": "stdout",
          "text": [
            "0.0.69\n"
          ]
        }
      ]
    },
    {
      "cell_type": "code",
      "source": [
        "import numpy\n",
        "import openai\n",
        "\n",
        "print(numpy.__version__)\n",
        "print(openai.__version__)"
      ],
      "metadata": {
        "id": "s1zZEwGWWR0p",
        "outputId": "152640e3-c72b-4d27-801b-3728b3390c82",
        "colab": {
          "base_uri": "https://localhost:8080/"
        }
      },
      "execution_count": 6,
      "outputs": [
        {
          "output_type": "stream",
          "name": "stdout",
          "text": [
            "1.23.5\n",
            "1.3.8\n"
          ]
        }
      ]
    },
    {
      "cell_type": "code",
      "source": [
        "!pip install -U \\\n",
        "  datasets==2.12.0 \\\n",
        "  sentence-transformers==2.2.2"
      ],
      "metadata": {
        "id": "E5QfqoJeTy_B",
        "outputId": "08a24d8e-d93a-4cab-db60-dad8891f80f8",
        "colab": {
          "base_uri": "https://localhost:8080/"
        }
      },
      "execution_count": 5,
      "outputs": [
        {
          "output_type": "stream",
          "name": "stdout",
          "text": [
            "Requirement already satisfied: datasets==2.12.0 in /usr/local/lib/python3.10/dist-packages (2.12.0)\n",
            "Requirement already satisfied: sentence-transformers==2.2.2 in /usr/local/lib/python3.10/dist-packages (2.2.2)\n",
            "Requirement already satisfied: numpy>=1.17 in /usr/local/lib/python3.10/dist-packages (from datasets==2.12.0) (1.23.5)\n",
            "Requirement already satisfied: pyarrow>=8.0.0 in /usr/local/lib/python3.10/dist-packages (from datasets==2.12.0) (9.0.0)\n",
            "Requirement already satisfied: dill<0.3.7,>=0.3.0 in /usr/local/lib/python3.10/dist-packages (from datasets==2.12.0) (0.3.6)\n",
            "Requirement already satisfied: pandas in /usr/local/lib/python3.10/dist-packages (from datasets==2.12.0) (1.5.3)\n",
            "Requirement already satisfied: requests>=2.19.0 in /usr/local/lib/python3.10/dist-packages (from datasets==2.12.0) (2.31.0)\n",
            "Requirement already satisfied: tqdm>=4.62.1 in /usr/local/lib/python3.10/dist-packages (from datasets==2.12.0) (4.66.1)\n",
            "Requirement already satisfied: xxhash in /usr/local/lib/python3.10/dist-packages (from datasets==2.12.0) (3.4.1)\n",
            "Requirement already satisfied: multiprocess in /usr/local/lib/python3.10/dist-packages (from datasets==2.12.0) (0.70.14)\n",
            "Requirement already satisfied: fsspec[http]>=2021.11.1 in /usr/local/lib/python3.10/dist-packages (from datasets==2.12.0) (2023.6.0)\n",
            "Requirement already satisfied: aiohttp in /usr/local/lib/python3.10/dist-packages (from datasets==2.12.0) (3.9.1)\n",
            "Requirement already satisfied: huggingface-hub<1.0.0,>=0.11.0 in /usr/local/lib/python3.10/dist-packages (from datasets==2.12.0) (0.19.4)\n",
            "Requirement already satisfied: packaging in /usr/local/lib/python3.10/dist-packages (from datasets==2.12.0) (23.2)\n",
            "Requirement already satisfied: responses<0.19 in /usr/local/lib/python3.10/dist-packages (from datasets==2.12.0) (0.18.0)\n",
            "Requirement already satisfied: pyyaml>=5.1 in /usr/local/lib/python3.10/dist-packages (from datasets==2.12.0) (6.0.1)\n",
            "Requirement already satisfied: transformers<5.0.0,>=4.6.0 in /usr/local/lib/python3.10/dist-packages (from sentence-transformers==2.2.2) (4.35.2)\n",
            "Requirement already satisfied: torch>=1.6.0 in /usr/local/lib/python3.10/dist-packages (from sentence-transformers==2.2.2) (2.1.0+cu118)\n",
            "Requirement already satisfied: torchvision in /usr/local/lib/python3.10/dist-packages (from sentence-transformers==2.2.2) (0.16.0+cu118)\n",
            "Requirement already satisfied: scikit-learn in /usr/local/lib/python3.10/dist-packages (from sentence-transformers==2.2.2) (1.2.2)\n",
            "Requirement already satisfied: scipy in /usr/local/lib/python3.10/dist-packages (from sentence-transformers==2.2.2) (1.11.4)\n",
            "Requirement already satisfied: nltk in /usr/local/lib/python3.10/dist-packages (from sentence-transformers==2.2.2) (3.8.1)\n",
            "Requirement already satisfied: sentencepiece in /usr/local/lib/python3.10/dist-packages (from sentence-transformers==2.2.2) (0.1.99)\n",
            "Requirement already satisfied: attrs>=17.3.0 in /usr/local/lib/python3.10/dist-packages (from aiohttp->datasets==2.12.0) (23.1.0)\n",
            "Requirement already satisfied: multidict<7.0,>=4.5 in /usr/local/lib/python3.10/dist-packages (from aiohttp->datasets==2.12.0) (6.0.4)\n",
            "Requirement already satisfied: yarl<2.0,>=1.0 in /usr/local/lib/python3.10/dist-packages (from aiohttp->datasets==2.12.0) (1.9.3)\n",
            "Requirement already satisfied: frozenlist>=1.1.1 in /usr/local/lib/python3.10/dist-packages (from aiohttp->datasets==2.12.0) (1.4.0)\n",
            "Requirement already satisfied: aiosignal>=1.1.2 in /usr/local/lib/python3.10/dist-packages (from aiohttp->datasets==2.12.0) (1.3.1)\n",
            "Requirement already satisfied: async-timeout<5.0,>=4.0 in /usr/local/lib/python3.10/dist-packages (from aiohttp->datasets==2.12.0) (4.0.3)\n",
            "Requirement already satisfied: filelock in /usr/local/lib/python3.10/dist-packages (from huggingface-hub<1.0.0,>=0.11.0->datasets==2.12.0) (3.13.1)\n",
            "Requirement already satisfied: typing-extensions>=3.7.4.3 in /usr/local/lib/python3.10/dist-packages (from huggingface-hub<1.0.0,>=0.11.0->datasets==2.12.0) (4.5.0)\n",
            "Requirement already satisfied: charset-normalizer<4,>=2 in /usr/local/lib/python3.10/dist-packages (from requests>=2.19.0->datasets==2.12.0) (3.3.2)\n",
            "Requirement already satisfied: idna<4,>=2.5 in /usr/local/lib/python3.10/dist-packages (from requests>=2.19.0->datasets==2.12.0) (3.6)\n",
            "Requirement already satisfied: urllib3<3,>=1.21.1 in /usr/local/lib/python3.10/dist-packages (from requests>=2.19.0->datasets==2.12.0) (2.0.7)\n",
            "Requirement already satisfied: certifi>=2017.4.17 in /usr/local/lib/python3.10/dist-packages (from requests>=2.19.0->datasets==2.12.0) (2023.11.17)\n",
            "Requirement already satisfied: sympy in /usr/local/lib/python3.10/dist-packages (from torch>=1.6.0->sentence-transformers==2.2.2) (1.12)\n",
            "Requirement already satisfied: networkx in /usr/local/lib/python3.10/dist-packages (from torch>=1.6.0->sentence-transformers==2.2.2) (3.2.1)\n",
            "Requirement already satisfied: jinja2 in /usr/local/lib/python3.10/dist-packages (from torch>=1.6.0->sentence-transformers==2.2.2) (3.1.2)\n",
            "Requirement already satisfied: triton==2.1.0 in /usr/local/lib/python3.10/dist-packages (from torch>=1.6.0->sentence-transformers==2.2.2) (2.1.0)\n",
            "Requirement already satisfied: regex!=2019.12.17 in /usr/local/lib/python3.10/dist-packages (from transformers<5.0.0,>=4.6.0->sentence-transformers==2.2.2) (2023.6.3)\n",
            "Requirement already satisfied: tokenizers<0.19,>=0.14 in /usr/local/lib/python3.10/dist-packages (from transformers<5.0.0,>=4.6.0->sentence-transformers==2.2.2) (0.15.0)\n",
            "Requirement already satisfied: safetensors>=0.3.1 in /usr/local/lib/python3.10/dist-packages (from transformers<5.0.0,>=4.6.0->sentence-transformers==2.2.2) (0.4.1)\n",
            "Requirement already satisfied: click in /usr/local/lib/python3.10/dist-packages (from nltk->sentence-transformers==2.2.2) (8.1.7)\n",
            "Requirement already satisfied: joblib in /usr/local/lib/python3.10/dist-packages (from nltk->sentence-transformers==2.2.2) (1.3.2)\n",
            "Requirement already satisfied: python-dateutil>=2.8.1 in /usr/local/lib/python3.10/dist-packages (from pandas->datasets==2.12.0) (2.8.2)\n",
            "Requirement already satisfied: pytz>=2020.1 in /usr/local/lib/python3.10/dist-packages (from pandas->datasets==2.12.0) (2023.3.post1)\n",
            "Requirement already satisfied: threadpoolctl>=2.0.0 in /usr/local/lib/python3.10/dist-packages (from scikit-learn->sentence-transformers==2.2.2) (3.2.0)\n",
            "Requirement already satisfied: pillow!=8.3.*,>=5.3.0 in /usr/local/lib/python3.10/dist-packages (from torchvision->sentence-transformers==2.2.2) (9.4.0)\n",
            "Requirement already satisfied: six>=1.5 in /usr/local/lib/python3.10/dist-packages (from python-dateutil>=2.8.1->pandas->datasets==2.12.0) (1.16.0)\n",
            "Requirement already satisfied: MarkupSafe>=2.0 in /usr/local/lib/python3.10/dist-packages (from jinja2->torch>=1.6.0->sentence-transformers==2.2.2) (2.1.3)\n",
            "Requirement already satisfied: mpmath>=0.19 in /usr/local/lib/python3.10/dist-packages (from sympy->torch>=1.6.0->sentence-transformers==2.2.2) (1.3.0)\n"
          ]
        }
      ]
    },
    {
      "cell_type": "markdown",
      "source": [
        "### Data Preprocessing\n",
        "The dataset preparation process requires a few steps:\n",
        "\n",
        "1. We download the Quora dataset from Hugging Face Datasets.\n",
        "2. The text content of the dataset is embedded into vectors.\n",
        "\n"
      ],
      "metadata": {
        "id": "b6mItltjAj4d"
      }
    },
    {
      "cell_type": "code",
      "source": [
        "from datasets import load_dataset\n",
        "\n",
        "dataset = load_dataset('quora', split='train[240000:320000]')\n",
        "dataset"
      ],
      "metadata": {
        "colab": {
          "base_uri": "https://localhost:8080/"
        },
        "id": "CZGlfD3boNLN",
        "outputId": "d17bc5ff-312a-4f24-a811-91d74c88e102"
      },
      "execution_count": 6,
      "outputs": [
        {
          "output_type": "stream",
          "name": "stderr",
          "text": [
            "WARNING:datasets.builder:Found cached dataset quora (/root/.cache/huggingface/datasets/quora/default/0.0.0/36ba4cd42107f051a158016f1bea6ae3f4685c5df843529108a54e42d86c1e04)\n"
          ]
        },
        {
          "output_type": "execute_result",
          "data": {
            "text/plain": [
              "Dataset({\n",
              "    features: ['questions', 'is_duplicate'],\n",
              "    num_rows: 80000\n",
              "})"
            ]
          },
          "metadata": {},
          "execution_count": 6
        }
      ]
    },
    {
      "cell_type": "markdown",
      "source": [
        "The dataset contains ~400K pairs of natural language questions from Quora."
      ],
      "metadata": {
        "id": "PFstgIFJBMLQ"
      }
    },
    {
      "cell_type": "code",
      "source": [
        "dataset[:5]"
      ],
      "metadata": {
        "colab": {
          "base_uri": "https://localhost:8080/"
        },
        "id": "ev2DqwPCogkL",
        "outputId": "30372c8e-0333-44db-d7e8-bff73d20b1e4"
      },
      "execution_count": 7,
      "outputs": [
        {
          "output_type": "execute_result",
          "data": {
            "text/plain": [
              "{'questions': [{'id': [207550, 351729],\n",
              "   'text': ['What is the truth of life?', \"What's the evil truth of life?\"]},\n",
              "  {'id': [33183, 351730],\n",
              "   'text': ['Which is the best smartphone under 20K in India?',\n",
              "    'Which is the best smartphone with in 20k in India?']},\n",
              "  {'id': [351731, 351732],\n",
              "   'text': ['Steps taken by Canadian government to improve literacy rate?',\n",
              "    'Can I send homemade herbal hair oil from India to US via postal or private courier services?']},\n",
              "  {'id': [37799, 94186],\n",
              "   'text': ['What is a good way to lose 30 pounds in 2 months?',\n",
              "    'What can I do to lose 30 pounds in 2 months?']},\n",
              "  {'id': [351733, 351734],\n",
              "   'text': ['Which of the following most accurately describes the translation of the graph y = (x+3)^2 -2 to the graph of y = (x -2)^2 +2?',\n",
              "    'How do you graph x + 2y = -2?']}],\n",
              " 'is_duplicate': [False, True, False, True, False]}"
            ]
          },
          "metadata": {},
          "execution_count": 7
        }
      ]
    },
    {
      "cell_type": "markdown",
      "source": [
        "Whether or not the questions are duplicates is not so important, all we need for this example is the text itself. We can extract them all into a single questions list."
      ],
      "metadata": {
        "id": "GE1h3geJBTY2"
      }
    },
    {
      "cell_type": "code",
      "source": [
        "questions = []\n",
        "\n",
        "for record in dataset['questions']:\n",
        "    questions.extend(record['text'])\n",
        "\n",
        "# remove duplicates\n",
        "questions = list(set(questions))\n",
        "print('\\n'.join(questions[:5]))\n",
        "print(len(questions))"
      ],
      "metadata": {
        "colab": {
          "base_uri": "https://localhost:8080/"
        },
        "id": "YhAqwZqqo4Rb",
        "outputId": "c29364ad-9b94-427e-8bbb-9da9b03b0564"
      },
      "execution_count": 8,
      "outputs": [
        {
          "output_type": "stream",
          "name": "stdout",
          "text": [
            "Why do guys feel weak after sex?\n",
            "What is the original meaning of the phrase \"ever and anon\"?\n",
            "How do find a gay businessman?\n",
            "If there were an index to indicate the all around usefulness of Spanish, French, German and Italian, which would be the highest scoring language for an English speaker who would be choosing a second language to learn?\n",
            "How much is the President of the USA paid?\n",
            "136057\n"
          ]
        }
      ]
    },
    {
      "cell_type": "markdown",
      "source": [
        "## Astra DB Connection\n",
        "\n",
        "### Cassandra Driver Install"
      ],
      "metadata": {
        "id": "_RlzN0tTP63K"
      }
    },
    {
      "cell_type": "code",
      "source": [
        "import getpass\n",
        "\n",
        "YOUR_TOKEN = getpass.getpass()"
      ],
      "metadata": {
        "id": "_yZzq2zOKn6j",
        "outputId": "efecbabc-c3e5-4ff9-f880-7601d9914844",
        "colab": {
          "base_uri": "https://localhost:8080/"
        }
      },
      "execution_count": 9,
      "outputs": [
        {
          "name": "stdout",
          "output_type": "stream",
          "text": [
            "··········\n"
          ]
        }
      ]
    },
    {
      "cell_type": "code",
      "source": [
        "YOUR_API_ENDPOINT = input(\"API ENDPOINT:\")"
      ],
      "metadata": {
        "id": "l9bqlpXkiMVB",
        "outputId": "a7447c55-0030-466c-c353-a7c64458259d",
        "colab": {
          "base_uri": "https://localhost:8080/"
        }
      },
      "execution_count": 10,
      "outputs": [
        {
          "name": "stdout",
          "output_type": "stream",
          "text": [
            "API ENDPOINT:https://1014346a-a40c-4d1a-b1a3-78769cc72312-us-east1.apps.astra.datastax.com\n"
          ]
        }
      ]
    },
    {
      "cell_type": "code",
      "source": [
        "from astrapy.db import AstraDB\n",
        "\n",
        "# Initialization\n",
        "db = AstraDB(\n",
        "  token=YOUR_TOKEN,\n",
        "  api_endpoint=YOUR_API_ENDPOINT)\n",
        "\n",
        "print(f\"Connected to Astra DB: {db.get_collections()}\")"
      ],
      "metadata": {
        "id": "pfoYv1eiKk0X",
        "outputId": "6b194277-3cc1-4730-bf2d-1530a2aa7ff5",
        "colab": {
          "base_uri": "https://localhost:8080/"
        }
      },
      "execution_count": 11,
      "outputs": [
        {
          "output_type": "stream",
          "name": "stdout",
          "text": [
            "Connected to Astra DB: {'status': {'collections': ['semantics', 'semantics_ragstack']}}\n"
          ]
        }
      ]
    },
    {
      "cell_type": "code",
      "source": [
        "import os\n",
        "import getpass\n",
        "\n",
        "os.environ[\"OPENAI_API_KEY\"] = getpass.getpass()"
      ],
      "metadata": {
        "id": "0ixC8DyTQEiM",
        "outputId": "9376a8a7-d1cb-4514-b7d9-9919f162f548",
        "colab": {
          "base_uri": "https://localhost:8080/"
        }
      },
      "execution_count": 12,
      "outputs": [
        {
          "name": "stdout",
          "output_type": "stream",
          "text": [
            "··········\n"
          ]
        }
      ]
    },
    {
      "cell_type": "code",
      "source": [
        "import openai\n",
        "from openai import OpenAI\n",
        "\n",
        "client = OpenAI()\n",
        "client.models.list()"
      ],
      "metadata": {
        "id": "Ep3-60_LQUf0",
        "outputId": "e9b90286-2d08-44a0-b4d8-81e35408bb5f",
        "colab": {
          "base_uri": "https://localhost:8080/"
        }
      },
      "execution_count": 13,
      "outputs": [
        {
          "output_type": "execute_result",
          "data": {
            "text/plain": [
              "SyncPage[Model](data=[Model(id='text-search-babbage-doc-001', created=1651172509, object='model', owned_by='openai-dev'), Model(id='curie-search-query', created=1651172509, object='model', owned_by='openai-dev'), Model(id='text-davinci-003', created=1669599635, object='model', owned_by='openai-internal'), Model(id='text-search-babbage-query-001', created=1651172509, object='model', owned_by='openai-dev'), Model(id='babbage', created=1649358449, object='model', owned_by='openai'), Model(id='babbage-search-query', created=1651172509, object='model', owned_by='openai-dev'), Model(id='text-babbage-001', created=1649364043, object='model', owned_by='openai'), Model(id='text-similarity-davinci-001', created=1651172505, object='model', owned_by='openai-dev'), Model(id='davinci-similarity', created=1651172509, object='model', owned_by='openai-dev'), Model(id='code-davinci-edit-001', created=1649880484, object='model', owned_by='openai'), Model(id='curie-similarity', created=1651172510, object='model', owned_by='openai-dev'), Model(id='babbage-search-document', created=1651172510, object='model', owned_by='openai-dev'), Model(id='curie-instruct-beta', created=1649364042, object='model', owned_by='openai'), Model(id='text-search-ada-doc-001', created=1651172507, object='model', owned_by='openai-dev'), Model(id='davinci-instruct-beta', created=1649364042, object='model', owned_by='openai'), Model(id='whisper-1', created=1677532384, object='model', owned_by='openai-internal'), Model(id='text-similarity-babbage-001', created=1651172505, object='model', owned_by='openai-dev'), Model(id='text-search-davinci-doc-001', created=1651172505, object='model', owned_by='openai-dev'), Model(id='babbage-similarity', created=1651172505, object='model', owned_by='openai-dev'), Model(id='text-embedding-ada-002', created=1671217299, object='model', owned_by='openai-internal'), Model(id='davinci-search-query', created=1651172505, object='model', owned_by='openai-dev'), Model(id='text-similarity-curie-001', created=1651172507, object='model', owned_by='openai-dev'), Model(id='text-davinci-001', created=1649364042, object='model', owned_by='openai'), Model(id='text-search-davinci-query-001', created=1651172505, object='model', owned_by='openai-dev'), Model(id='ada-search-document', created=1651172507, object='model', owned_by='openai-dev'), Model(id='ada-code-search-code', created=1651172505, object='model', owned_by='openai-dev'), Model(id='babbage-002', created=1692634615, object='model', owned_by='system'), Model(id='davinci-002', created=1692634301, object='model', owned_by='system'), Model(id='davinci-search-document', created=1651172509, object='model', owned_by='openai-dev'), Model(id='curie-search-document', created=1651172508, object='model', owned_by='openai-dev'), Model(id='gpt-4-0613', created=1686588896, object='model', owned_by='openai'), Model(id='babbage-code-search-code', created=1651172509, object='model', owned_by='openai-dev'), Model(id='text-search-ada-query-001', created=1651172505, object='model', owned_by='openai-dev'), Model(id='code-search-ada-text-001', created=1651172507, object='model', owned_by='openai-dev'), Model(id='babbage-code-search-text', created=1651172509, object='model', owned_by='openai-dev'), Model(id='gpt-4-vision-preview', created=1698894917, object='model', owned_by='system'), Model(id='code-search-babbage-code-001', created=1651172507, object='model', owned_by='openai-dev'), Model(id='ada-search-query', created=1651172505, object='model', owned_by='openai-dev'), Model(id='gpt-3.5-turbo', created=1677610602, object='model', owned_by='openai'), Model(id='ada-code-search-text', created=1651172510, object='model', owned_by='openai-dev'), Model(id='tts-1-hd', created=1699046015, object='model', owned_by='system'), Model(id='text-search-curie-query-001', created=1651172509, object='model', owned_by='openai-dev'), Model(id='gpt-3.5-turbo-16k', created=1683758102, object='model', owned_by='openai-internal'), Model(id='text-davinci-002', created=1649880484, object='model', owned_by='openai'), Model(id='text-davinci-edit-001', created=1649809179, object='model', owned_by='openai'), Model(id='code-search-babbage-text-001', created=1651172507, object='model', owned_by='openai-dev'), Model(id='ada', created=1649357491, object='model', owned_by='openai'), Model(id='text-ada-001', created=1649364042, object='model', owned_by='openai'), Model(id='ada-similarity', created=1651172507, object='model', owned_by='openai-dev'), Model(id='code-search-ada-code-001', created=1651172507, object='model', owned_by='openai-dev'), Model(id='text-similarity-ada-001', created=1651172505, object='model', owned_by='openai-dev'), Model(id='gpt-3.5-turbo-0301', created=1677649963, object='model', owned_by='openai'), Model(id='gpt-4', created=1687882411, object='model', owned_by='openai'), Model(id='gpt-3.5-turbo-16k-0613', created=1685474247, object='model', owned_by='openai'), Model(id='text-search-curie-doc-001', created=1651172509, object='model', owned_by='openai-dev'), Model(id='text-curie-001', created=1649364043, object='model', owned_by='openai'), Model(id='curie', created=1649359874, object='model', owned_by='openai'), Model(id='tts-1', created=1681940951, object='model', owned_by='openai-internal'), Model(id='gpt-4-0314', created=1687882410, object='model', owned_by='openai'), Model(id='davinci', created=1649359874, object='model', owned_by='openai'), Model(id='gpt-3.5-turbo-1106', created=1698959748, object='model', owned_by='system'), Model(id='gpt-3.5-turbo-instruct-0914', created=1694122472, object='model', owned_by='system'), Model(id='gpt-4-1106-preview', created=1698957206, object='model', owned_by='system'), Model(id='dall-e-2', created=1698798177, object='model', owned_by='system'), Model(id='gpt-3.5-turbo-instruct', created=1692901427, object='model', owned_by='system'), Model(id='gpt-3.5-turbo-0613', created=1686587434, object='model', owned_by='openai'), Model(id='tts-1-1106', created=1699053241, object='model', owned_by='system'), Model(id='tts-1-hd-1106', created=1699053533, object='model', owned_by='system'), Model(id='dall-e-3', created=1698785189, object='model', owned_by='system')], object='list')"
            ]
          },
          "metadata": {},
          "execution_count": 13
        }
      ]
    },
    {
      "cell_type": "code",
      "source": [
        "from langchain.embeddings.openai import OpenAIEmbeddings\n",
        "embedding_function = OpenAIEmbeddings()"
      ],
      "metadata": {
        "id": "TS0chNh_QZs9"
      },
      "execution_count": 14,
      "outputs": []
    },
    {
      "cell_type": "code",
      "source": [
        "YOUR_COLLECTION_NAME = \"semantics_ragstack\""
      ],
      "metadata": {
        "id": "gQPJOngAMAjA"
      },
      "execution_count": 15,
      "outputs": []
    },
    {
      "cell_type": "code",
      "source": [
        "from langchain.vectorstores import AstraDB\n",
        "\n",
        "vector_store = AstraDB(\n",
        "  embedding=embedding_function,\n",
        "  collection_name=YOUR_COLLECTION_NAME,\n",
        "  api_endpoint=YOUR_API_ENDPOINT,\n",
        "  token=YOUR_TOKEN,\n",
        ")"
      ],
      "metadata": {
        "id": "yXkN3u6IL9Gu"
      },
      "execution_count": 16,
      "outputs": []
    },
    {
      "cell_type": "code",
      "source": [
        "print(len(questions))"
      ],
      "metadata": {
        "id": "K0V0V6gEl2xJ",
        "outputId": "ef5c6a07-248a-4126-9dc9-5665fc22d563",
        "colab": {
          "base_uri": "https://localhost:8080/"
        }
      },
      "execution_count": 17,
      "outputs": [
        {
          "output_type": "stream",
          "name": "stdout",
          "text": [
            "136057\n"
          ]
        }
      ]
    },
    {
      "cell_type": "code",
      "source": [
        "#vector_store.add_texts()"
      ],
      "metadata": {
        "id": "zLkY9LUln4qT",
        "outputId": "c763288b-d4dd-4669-f04b-39a63f68b185",
        "colab": {
          "base_uri": "https://localhost:8080/"
        }
      },
      "execution_count": null,
      "outputs": [
        {
          "output_type": "execute_result",
          "data": {
            "text/plain": [
              "['ff17d872bfeb4d92b7d749140fffaed9',\n",
              " '20b8da4183b240be9726f1c24d65f958',\n",
              " '83672b9d139c4c769ad7280163cc713d',\n",
              " '82505ec1742c405ba0a07090c5100374',\n",
              " '5b348876d8ad4523a2e6add48d002e3c',\n",
              " 'e3f4938d43b7452f929a6a45d5c07ef4',\n",
              " '867dc3237ecb4c3fada4fac59160f3a2',\n",
              " 'f7b02ee3d5674ec69b5c1669805604ea',\n",
              " '3c41bfd444fa4a848417664320667e52',\n",
              " '1b49b09bcca94a859c13d416f4297ba3',\n",
              " '308e0c922b9c4bb5a43e56545bf49599',\n",
              " '596a32d6b86a49d2a8426e46094dfb47',\n",
              " 'fc213923932e4028aaad4b4981208c9b',\n",
              " 'bc6595227cd1423891576a61e55f1203',\n",
              " 'db3591f8a9c34b1094208ed1e4d5665d',\n",
              " '741c3d11c4dc49a0acca7f6567dd01c6',\n",
              " 'bc8a132ce32c4159a8833bd25eca9b9c',\n",
              " '17e5c5431d3043c38a53f3cc88aae049',\n",
              " '624efca5e8684f4f8f70182297932c8c',\n",
              " '47ead5a349744f0089ffdb8cf4e2a595',\n",
              " '125a061050b84e7981bf49e2314e7427',\n",
              " '925e97e4c7e04d178cbd58717f052686',\n",
              " 'ecce3dd44b0c41728e8cb37fd5004f69',\n",
              " '99aadb9d12f24e5aa7df33532b9c5aba',\n",
              " '7f133368a9984f87a734c3a9a8758f4c',\n",
              " 'fa18248cf0f84887a8b3047f0307c272',\n",
              " 'dfb396a4959a468488b3b8858c0a00ca',\n",
              " '09167a8750d246c986383fc49c13e01b',\n",
              " '694bebd3ce5c440a8d00e5269ef15cbe',\n",
              " '91260ebac4324681a744a81e32733a54',\n",
              " 'cbfaa5983cb8401b9e91109e84a17a63',\n",
              " 'f1353a2ecf60447784e42cc60ecc3ea5',\n",
              " 'ac33a6358f134a7d8379299e0c4543f5',\n",
              " '79bce815ef8c48afab0833b2bffc2979',\n",
              " 'e53124fd6594455dbc415cb165976d83',\n",
              " 'bbaee8a7b062469cbb4ed39c5ca2bba9',\n",
              " '0d4de3d228a249c79ebde31a1992564e',\n",
              " 'f5aeba7e095c4442859e174179e7f92e',\n",
              " '6f8ad11744e84ca78eea4de0a333f81f',\n",
              " '8d60053920204a57a6fac4019f700de9',\n",
              " '1667b59834eb4a758c749c31baeb2c6b',\n",
              " '24649c92aeeb4fe9874d5cd441175cdb',\n",
              " 'dcb20081922149a284ee92d2bafce2b3',\n",
              " 'cb2e28d8a7d249feb71354cb0fc70d0f',\n",
              " '10489c9a19b44a6f84a6665d4056782c',\n",
              " 'aca97c3410db4613a1d397e41f59150d',\n",
              " 'f90c1a23f0cc41078807c1507bde15c0',\n",
              " '1560fa5ee49f4153b8e4407f2cad6652',\n",
              " '4a2ead1d1b0e4dc5a020167069916e07',\n",
              " '2586123188624645b0eca8cc949414b9',\n",
              " '09a666bf170646bc8345d0c4b3f003f0',\n",
              " '4cc2b7c8f78740fba19462868bbfd8dc',\n",
              " 'b330ed509dbb4b6a99c0827a1fc81615',\n",
              " '493f5810d6234e8d9de81dd55fa6ead9',\n",
              " '4ddddd81de364528b6bdcb9c89bb01b7',\n",
              " '678085d83708454abc8424c3f025476c',\n",
              " 'b1cc269697874614bbc1abefc7d5e78e',\n",
              " 'a93f924aae9040d79111025b6c514b7e',\n",
              " '22ea6b8e11d14ec98df5ce3ec6bf3e25',\n",
              " '01102f193fa64f5f89c1c4679da3a499',\n",
              " 'f68d6851ab144551a72466629ae98d4c']"
            ]
          },
          "metadata": {},
          "execution_count": 40
        }
      ]
    },
    {
      "cell_type": "code",
      "source": [
        "\n",
        "#await vector_store.aadd_texts(questions)"
      ],
      "metadata": {
        "id": "5br3tlD9jyCV"
      },
      "execution_count": null,
      "outputs": []
    },
    {
      "cell_type": "markdown",
      "source": [
        "I noticed caused the situation reported as follows.\n",
        "\n",
        "```\n",
        "Your session crashed after using all available RAM. If you are interested in access to high-RAM runtimes, you may want to check out Colab Pro.\n",
        "\n",
        "```\n",
        "No data on Astra DB but an empty collection was created.\n",
        "\n",
        "So, I restart from the beginning (after commenting out the above cell)."
      ],
      "metadata": {
        "id": "Xm-I1JoU12Ac"
      }
    },
    {
      "cell_type": "code",
      "source": [
        "await vector_store.aadd_texts(questions[10])"
      ],
      "metadata": {
        "id": "dPzHmcY32L7X",
        "outputId": "61805226-69b5-4e01-ee38-1399948fa503",
        "colab": {
          "base_uri": "https://localhost:8080/"
        }
      },
      "execution_count": 18,
      "outputs": [
        {
          "output_type": "execute_result",
          "data": {
            "text/plain": [
              "['24255316b06f4b2aa203b8a628c7ba11',\n",
              " '80601ea54f0f44029750c8d623fe5d87',\n",
              " '091c101af90441b69a8ca148fbf3c3c3',\n",
              " '404a619ba5244c6c921fba72e1f3c5db',\n",
              " 'da783c96d247491ba23311e13f96c9c6',\n",
              " '9a70c0c9ce654e25a189931e718ed9c6',\n",
              " '3ce4a238e6724f33b3d086d4508cda8a',\n",
              " '67589cb75995426a9b5b2003935eee25',\n",
              " '52488965af524889b2c375940ca8e1df',\n",
              " '6abe60603cdc4c25bd70b069a11e210c',\n",
              " '4cdf6a282a1a42698dec49fa4b282c8d',\n",
              " 'b7c5043339484023bd8e1e6624cd7c28',\n",
              " '9a47e661ea0c44c9953949637d96ebdd',\n",
              " 'b4a907eff55d4250a411510b75ee2fae',\n",
              " '26c90b4fec6a406db6a8e3404a0f7d5a',\n",
              " '7e721e8251424ce7a86c2c2c4896ecd8',\n",
              " '7b7e55dc1eee431c9a856d318cf69f09',\n",
              " '165199e374524f1eabbd6926df29718c',\n",
              " 'ba6756e3a9fb4a65bf60e3d4809a9bd4',\n",
              " '093d65b0faf14fd5897c5e99484c54f0',\n",
              " '7bb76cca3aaa48adaa74b944e8b3042e',\n",
              " 'f3d469b2b0194a8aabd8fb57c90ecd1d',\n",
              " 'e13b5b513868427586fc36f9c5022332',\n",
              " '34b57c5386d1497b83584d32af7848d0',\n",
              " 'e3c1a766c30c468183dfa985a41fe181',\n",
              " 'b94cc8218be74c01afa85dc855c7c817',\n",
              " 'dfea4b1a6daf48428b2ae8a21e8c4d83',\n",
              " '73d0876f09684e458af48426d2436aa3',\n",
              " '675feee791a04fa795409343cf1b78cc',\n",
              " '77238708fa6143068e65c8fe8f688975',\n",
              " '0c8fd63f80a24ba4a757dfeba32ae269',\n",
              " 'aa95043c0b324ee0bae1dd7429609120']"
            ]
          },
          "metadata": {},
          "execution_count": 18
        }
      ]
    },
    {
      "cell_type": "markdown",
      "source": [
        "The above worked immesiately."
      ],
      "metadata": {
        "id": "NGCgTTzH3S2O"
      }
    },
    {
      "cell_type": "code",
      "source": [
        "await vector_store.aadd_texts(questions[100])"
      ],
      "metadata": {
        "id": "UaTxYq883Xbp",
        "outputId": "cf26443b-029e-469f-efb6-a5e56d6ef9e9",
        "colab": {
          "base_uri": "https://localhost:8080/"
        }
      },
      "execution_count": 19,
      "outputs": [
        {
          "output_type": "execute_result",
          "data": {
            "text/plain": [
              "['e60a31fe15774ae2b7e8429ac4ec9017',\n",
              " '6177bfcccf0b4cd7aa78037659a5ce2d',\n",
              " '199f7a13cb6b4ef69ceed13692a745a8',\n",
              " 'e710180546b4496ca111e8e06223bea7',\n",
              " 'bbfa73f5a4fc472b9178d315ee8393b1',\n",
              " '7fd5a19b2c46435b84bf86b6accf7e45',\n",
              " '54c1750e098845c588730e39e259690f',\n",
              " 'a1a54c767a094c748e9cf110c1846adb',\n",
              " '0fd8d56fc2404576a996d59c4c719330',\n",
              " 'a7e25e055f1c46f1beabfff4b45ae0da',\n",
              " 'c5b4890d61d04c6a8fd639f8e8b1e7e0',\n",
              " 'f63769bf61004bed871ee33440b149e8',\n",
              " 'b7fa39e446f741e0a67089b2e5decb9f',\n",
              " 'd01dd6c82ddb4afdb64cda352a118f64',\n",
              " '428a650b481e44ac83055bbe950eeeea',\n",
              " 'e028dc8680894907890bf447b20021a3',\n",
              " 'eb9506b434ea4cddbfa325391d0ee026',\n",
              " '266cc54ccee148868c390a0bcbff9cc2',\n",
              " '5f54d87884ac4b25b1f36bacf054bab5',\n",
              " 'c378f5cfe0414fcc8dbba75811a8a830',\n",
              " 'dc27869d05f0445c83f300003e1fbc98',\n",
              " '5e2708a4b588467fad87b9a3342d4f57',\n",
              " 'fc032f24c2e24a3eb7d6096251ac0958',\n",
              " 'a21d735b4d4a439dbf3402faced4afc6',\n",
              " '50b12a0f6fe240efb4e4db6a9d182a5c',\n",
              " '76f5bcd32d1f4794874935f99473a847',\n",
              " '123bd2edcca44412a103efc68323f37c',\n",
              " '52125ca33f32408fbe384c5bb131db36',\n",
              " '34d067396de94742b4d399bea51ab686',\n",
              " 'cbf5147ce60d4cdf895435ba74d3d676',\n",
              " '804320c1dbb84e8a9e841951cb145bcc',\n",
              " 'ca40e6ce92594b8da4e8b1bd16a8788a',\n",
              " '0aff38a53a32498687210b930b36480a',\n",
              " '85a00cb70ca348818694c5c96da6191f',\n",
              " '310ac1266fc84a4998b0abdf1651d909',\n",
              " 'b282abf87ca640de876cd4d147327e9a',\n",
              " '37b7353aff8e43c5bf286329995866f0',\n",
              " 'd1596446c27f4d5b9925ccffc3b31e04',\n",
              " '29af943ffe604cb18048fa01d7d0e3a6',\n",
              " 'cb59c920ddc748bfac2dc22b9b2b0d20',\n",
              " '34c597c32ca74961ba124ccae95c4d21',\n",
              " 'cddbb21674844a41991f620fd9c14cd5',\n",
              " '810d6066b8e742d58c9a7c763b381e41',\n",
              " '13229febe7ad48f3ad8d90eea40472f0',\n",
              " 'b5c8ae0a0f2c4425b7d3e724a07a2509',\n",
              " 'ee1f8d93841a4fbfbac0c52709d7a1fa',\n",
              " 'e3ba5c27f4964643b6654d470747a7e5',\n",
              " '4774b815c6114051977afb0bd281475d',\n",
              " 'c178f645f4c74f3f827b7ada6f2cda36',\n",
              " 'a12d78a0e3f64191adeab99faa025ba9',\n",
              " '15b329fa021e49adb9c8b010ff029602',\n",
              " '7a5f70544d874e9b8730edb42ebcddaf',\n",
              " '60e3eff300264b22a27c67793e0243a3',\n",
              " 'cc53031c7aaf4c3e92b1abc3a7beb22f',\n",
              " '268df8a2501c41d2b6f37f180baa0022',\n",
              " 'e8d162b5fe3b4691ade068d04ab8a224',\n",
              " 'a79395a8d6ef437f88e0a37dbf6ec5ce',\n",
              " '5f99e01029f046eba49f7636214ec8a9',\n",
              " '9189f29b257c44e587214bdaef6c5b5c',\n",
              " '2c038eca3e264db48c34129b216d4479',\n",
              " 'f6a97accb54f42e58da669b3e27ab057',\n",
              " '56576d052ad94bfa86d0f999029b86f5',\n",
              " 'aeb412baa73f4bf8a7b533147fc156cf',\n",
              " 'a32c1209cb4b47e7872b977419f728c2',\n",
              " 'f74b8de61da34c259a9564d4c10b9110',\n",
              " '2a3eff2b776e4cc5bd9efcd2cd315ac6',\n",
              " '6cbc85bb6a914e6c829d987e7ad659f3',\n",
              " '217060b8e2f145db93ee3292e8365c88',\n",
              " '6e216a694ade451caa4c778764e0ecb6',\n",
              " '6745ff23a4704deea7dddbe9b9da0bc7',\n",
              " '927b8bab7b034150abc873ed1bf2ff96',\n",
              " 'b8bc70e07766446bb37c11f94986de09',\n",
              " '9de9345239c543209ed8fc64d8983762',\n",
              " 'a44222c187c642d3bbed5ff75a348ff6',\n",
              " '8bf90a336c334ab6bcfdd27d6a5f1ea9',\n",
              " '2de0fb8030e04a5cae52631112b92125',\n",
              " 'd23d818a81f7465bb10d6568080823c9',\n",
              " '8438777f7dea46a5924a29d1ead9db3b',\n",
              " '485cfe794ffb4b53ab86581897f72036',\n",
              " '00efc463fe004cedbf7a05d81ef20561',\n",
              " '2ab73608d43c452bb88d26ac7896ef25',\n",
              " 'a3e652fff9314bcb8fb6b5bf40dc1d00',\n",
              " '636290d455f044c0a8dbc89594b738c6',\n",
              " '3b07d7fed9f242f686c7f82fa9d2aed2',\n",
              " 'fb8057c7cecf46efa9b37f6a0a942f10',\n",
              " '464882b0fabd47ad8971ad91e5bcc1d6',\n",
              " 'a8d1fa5aa24e4cd4a4b6fc9b466e6083',\n",
              " '67060e35601744a8a81c47a8392f4d59',\n",
              " '01ad439a043d425ea294a4d445675b99',\n",
              " '20177684d3ff408b8d3f9990860be731',\n",
              " '5136b3651dc340b2960de9bd6cba492e',\n",
              " 'bfe43ed02a1543f99acff3b3f334e2dc',\n",
              " 'e2560ee5d5c94840a32006bbe2a480d6',\n",
              " 'd62631a90bda425c92949ad85bb92027',\n",
              " 'bddc2424320b4640b12b1b4973ffe5b8',\n",
              " '6866bb5dcd264e86b1829deda31b2c14',\n",
              " 'e995ed91115b446b81c2b5c54e136e45',\n",
              " '7baaf19678434582a3ced2535f0c5b5f',\n",
              " '78b37f841cc64756828679b29c0b876f',\n",
              " '18c8ac77b7924d79b2c5eb40465718cb',\n",
              " '3264c11eb20d4a26bc58b967f6ef7ce5',\n",
              " '6ddb3fe24e4a4d79af6038a241aaf14b',\n",
              " '7b70967276f94db5a95ff206bcd027a7',\n",
              " 'af2a49f63c3b4957a4559eee27f69789',\n",
              " 'cb68bfb098384adbb8419334afb72190',\n",
              " 'dae78eb39e794157978898b92083a627',\n",
              " '4b3552a4d6ec4c9baf98f9cae1d3cf56',\n",
              " '8908dc972bb04f5c9d011a2b042d2a0e',\n",
              " '4fa251faf01f480ab67e4b6b95852c43',\n",
              " '6489df41fe5142498bb9f0ce00d6b960',\n",
              " 'd0a8bd67896146e28ee652bab37e1033',\n",
              " '9c63b6c5bdd0437c8cc9bc8f673fd617',\n",
              " '7afa39e241cf490199d1f15ba5c3c235',\n",
              " 'd59d4c50d5ba4df69f29c10fbff03091',\n",
              " '790f2ce3048344a3aac26485ae3659c0',\n",
              " 'eea45fd99e0b4d448219bc87d585cef4',\n",
              " '1c21ce75dd744e8fa6e675178f66a825',\n",
              " '6a45f239ab1849ddaa9801459cf16861',\n",
              " 'cd63d1c76cb942f6a20154626ade149d',\n",
              " 'c76cd5a09b7a4b87a6b75d3339b2ff4d',\n",
              " 'f81596e48447423fb5ec7a5012f4f290',\n",
              " 'aa2438182ce24f75bce5557b48c1bbde',\n",
              " '37f5d88b480c419984210ddc6bc44bdb',\n",
              " '9fa8ca69c26d4c3d8f36149098ce4b38',\n",
              " 'bbf49528c6aa4ddfab1b51146f0a3f0d']"
            ]
          },
          "metadata": {},
          "execution_count": 19
        }
      ]
    },
    {
      "cell_type": "code",
      "source": [
        "await vector_store.aadd_texts(questions[1000])"
      ],
      "metadata": {
        "id": "O5B5WAsR3cKz",
        "outputId": "8f871781-ca66-4309-b4a2-9e21b6dc8cd6",
        "colab": {
          "base_uri": "https://localhost:8080/"
        }
      },
      "execution_count": 20,
      "outputs": [
        {
          "output_type": "execute_result",
          "data": {
            "text/plain": [
              "['ab74f02e6d6c451db9b43a18626e472d',\n",
              " '3efa23a9976b4a92ad097c0459a91109',\n",
              " 'e34bb5fe4d5445c58c9bb18d14ce3554',\n",
              " '057d91a2706846c485bade64df1838aa',\n",
              " '558ee14f207c4137827b1140ea7dba80',\n",
              " '21d6a3d3c61741ccb436418a3c56d57a',\n",
              " '62ff4f37fb0c44b591795af6ef6dc312',\n",
              " 'a17a70677a6c4faea1395852af0560af',\n",
              " '1936c0f363804b30af2e30569572abcd',\n",
              " '4f1badaa724646b3a2bc6b3710fea6af',\n",
              " '570bbb8c5f0f44388bc63eafd3b80786',\n",
              " '9c874022606d4a8f925487c6900722f1',\n",
              " 'a01531e7945b410cac9f9b5df33a2a7b',\n",
              " 'a918cfeea1444a40a84bfe3207b117e2',\n",
              " 'e8df9ad2d8bb4cf587aea9e1e6ce217b',\n",
              " '6a4628bec5e3445e8485fd137c9c22b1',\n",
              " 'a70537a1c6fa4609aaa94c1d29919cfc',\n",
              " '02340ebdbf1d4bdb976f2070c4ca34ae',\n",
              " 'acb15e5e27bc4f96848a09ed000c9b9e',\n",
              " '90e794f51b804e3aba995d9fc7dcb1f8',\n",
              " '076c908905584f1ab786cbc82b5b3539',\n",
              " 'e1971110d4964619a3d15538d669dbf0',\n",
              " 'eddd7e8151034af0943ac4aa7072b4f7',\n",
              " '39fe3d4f3f9c4f91b4d38b5dbb4fe131',\n",
              " 'ce044d66cd7d4b18932a22c033772005',\n",
              " '383ac316cd1d4e048fc3fee54de3abeb',\n",
              " 'bb147ef55d8741078635911791b842e4',\n",
              " 'ab332e890ee047f290733ed5240fa936',\n",
              " '7acb47e99b0140629b8e322b35952376',\n",
              " '18929d26f027471fa684b9ddb7916327',\n",
              " 'd670ecdb6671470b8d2b58336c519d3c',\n",
              " '01861fa476e84dcbb88d4a8f044fdd72',\n",
              " '993029865dd14ba68499dda84d52f2f6',\n",
              " '02843b5db9c44938a3d395b1a7aee884',\n",
              " 'f2df2a03e5a84fda8365eb8d54274b53',\n",
              " '320c5cddb26243ef8ce56f46885b8a73',\n",
              " '23f1b2bdec8f4030b7d39ecabd274e49',\n",
              " 'ad363a700f5f4cc89b32044c9639e7d5',\n",
              " '989a48720ad8432a92877eae9278d4d5',\n",
              " '4b4d38f569bc41eaa47f8d446410cdc5',\n",
              " 'ff67c73edf5e49a7b42d18305d580958',\n",
              " '66fe4a9637d146fcb1e50057d9cb0f8b',\n",
              " '07624603035540b58b8ae82dad7a44e4',\n",
              " 'eb33af36c2754de2a7ab90404fb458f2']"
            ]
          },
          "metadata": {},
          "execution_count": 20
        }
      ]
    },
    {
      "cell_type": "markdown",
      "source": [
        "The above cell finished quickly but I observed only 201 records in the collection on the control plane."
      ],
      "metadata": {
        "id": "D3GQlp_A3xw6"
      }
    },
    {
      "cell_type": "code",
      "source": [
        "query = 'Is it true that the coordinaate of a point on x-axis can be taken as (y,0) while on y-axis it can be taken as (0,x)?'"
      ],
      "metadata": {
        "id": "ciWzeqvBkhSh"
      },
      "execution_count": 21,
      "outputs": []
    },
    {
      "cell_type": "code",
      "source": [
        "results = vector_store.similarity_search(query)"
      ],
      "metadata": {
        "id": "H9OuNFWxkTg9"
      },
      "execution_count": 24,
      "outputs": []
    },
    {
      "cell_type": "code",
      "source": [
        "results"
      ],
      "metadata": {
        "id": "vWvPKoqRklfR",
        "outputId": "a349b12f-c1fa-4c89-b79a-f558135e661f",
        "colab": {
          "base_uri": "https://localhost:8080/"
        }
      },
      "execution_count": 25,
      "outputs": [
        {
          "output_type": "execute_result",
          "data": {
            "text/plain": [
              "[Document(page_content='y'),\n",
              " Document(page_content='y'),\n",
              " Document(page_content='y'),\n",
              " Document(page_content='y')]"
            ]
          },
          "metadata": {},
          "execution_count": 25
        }
      ]
    },
    {
      "cell_type": "code",
      "source": [
        "for resuult in results:\n",
        "  print(result)"
      ],
      "metadata": {
        "id": "nhQUbZ7bOCpE",
        "outputId": "b5c52f43-fba6-4214-f620-4387c09ebc4c",
        "colab": {
          "base_uri": "https://localhost:8080/"
        }
      },
      "execution_count": 26,
      "outputs": [
        {
          "output_type": "stream",
          "name": "stdout",
          "text": [
            "[Document(page_content='y'), Document(page_content='y'), Document(page_content='y'), Document(page_content='y')]\n",
            "[Document(page_content='y'), Document(page_content='y'), Document(page_content='y'), Document(page_content='y')]\n",
            "[Document(page_content='y'), Document(page_content='y'), Document(page_content='y'), Document(page_content='y')]\n",
            "[Document(page_content='y'), Document(page_content='y'), Document(page_content='y'), Document(page_content='y')]\n"
          ]
        }
      ]
    },
    {
      "cell_type": "markdown",
      "source": [
        "Content is broken. It was okay before when I did the same with AstraPy and the original Cassandra API earlier, as you can see other notebooks in this repository."
      ],
      "metadata": {
        "id": "pxWlJENu4Z3x"
      }
    },
    {
      "cell_type": "code",
      "source": [],
      "metadata": {
        "id": "jDJTx_Jj4JBA"
      },
      "execution_count": null,
      "outputs": []
    }
  ]
}